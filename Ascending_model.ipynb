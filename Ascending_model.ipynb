{
  "nbformat": 4,
  "nbformat_minor": 0,
  "metadata": {
    "colab": {
      "name": "Ascending model.ipynb",
      "provenance": [],
      "collapsed_sections": [],
      "include_colab_link": true
    },
    "kernelspec": {
      "name": "python3",
      "display_name": "Python 3"
    },
    "language_info": {
      "name": "python"
    }
  },
  "cells": [
    {
      "cell_type": "markdown",
      "metadata": {
        "id": "view-in-github",
        "colab_type": "text"
      },
      "source": [
        "<a href=\"https://colab.research.google.com/github/MatthewZhang473/Python-programming/blob/master/Ascending_model.ipynb\" target=\"_parent\"><img src=\"https://colab.research.google.com/assets/colab-badge.svg\" alt=\"Open In Colab\"/></a>"
      ]
    },
    {
      "cell_type": "markdown",
      "metadata": {
        "id": "Ojl8OuKBGXEI"
      },
      "source": [
        "# This Program is to used to find the height of a balloon as a function of time, the ascend rate is also caluclated"
      ]
    },
    {
      "cell_type": "markdown",
      "metadata": {
        "id": "7Yr4hkvybrek"
      },
      "source": [
        "## Instruction:\n",
        "You may change the some parameters, including:  \n",
        "1) mass of Helium used  \n",
        "2) mass of the payload  \n",
        "\n",
        "## Some data may need double check, including:   \n",
        "1) The function of atmospheric pressure & Temperature, based on https://www.grc.nasa.gov/www/k-12/airplane/atmosmet.html  \n",
        "2) The drag coefficient Cd: https://en.wikipedia.org/wiki/Drag_coefficient  \n",
        "\n",
        "## One thing I just realized is that at 30,000 m, the volumn of helium of 1 kg is over 600 m3, which I think is too big\n"
      ]
    },
    {
      "cell_type": "code",
      "metadata": {
        "id": "0j6rRNcEGU4C",
        "colab": {
          "base_uri": "https://localhost:8080/"
        },
        "outputId": "d7c3d5d4-9705-4e9e-f58d-1dc95a75073f"
      },
      "source": [
        "# Define the constants and all complementary functions\n",
        "\n",
        "import numpy as np\n",
        "import scipy as sp\n",
        "import math\n",
        "import matplotlib\n",
        "import matplotlib.pyplot as plt\n",
        "!pip install ambiance\n",
        "from ambiance import Atmosphere\n",
        "\n",
        "from scipy.integrate import solve_ivp\n",
        "from scipy.interpolate import interp1d\n",
        "\n",
        "# First define complementary function needed in the calculation\n",
        "# Atmospheric Pressure: AP(h)\n",
        "# Temperature: Theta(h)\n",
        "# Atmospheric density: AD(h) \n",
        "# The expressions and functions are based on https://www.grc.nasa.gov/www/k-12/airplane/atmosmet.html \n",
        "\n",
        "def Theta(h):\n",
        "  # return the atmospheric temperature at given height with unit Kelvin\n",
        "  if h <= 11000:\n",
        "    return 273.15 + 15.04 - 0.00649 * h\n",
        "  elif 11000 < h <= 25000:\n",
        "    return 273.15 + -56.46\n",
        "  elif h > 25000:\n",
        "    return 273.15 + -131.21 + 0.00299 * h\n",
        "  else:\n",
        "    return \"height value out of range\"\n",
        "\n",
        "def AP(h):\n",
        "  # return the atmospheric pressure at given height h\n",
        "  # The unit is in Pascals\n",
        "  if h <= 11000:\n",
        "    return 1000 * 101.29 * ((Theta(h))/288.08)**5.256\n",
        "  elif 11000 < h <= 25000:\n",
        "    return 1000 * 22.65 * np.exp(1.73 - .000157 * h)\n",
        "  elif h > 25000:\n",
        "    return 1000 * 2.488 * ((Theta(h)) / 216.6)**-11.388\n",
        "  else:\n",
        "    return \"height value out of range\"\n",
        "\n",
        "def AD(h):\n",
        "  # return the atmospheric density at given height\n",
        "  # the unit is in kgm-3\n",
        "  return AP(h) / (1000 * 0.2869 * (Theta(h)))\n",
        "\n",
        "\n",
        "# Define the data related to the balloon and payload used\n",
        "\n",
        "m_He = 1.5 # the mass of helium in kg\n",
        "m_payload = 1 # the mass of payload in kg\n",
        "m_total = m_He + m_payload\n",
        "M_He = 4.002602e-3 # molar mass in kg/mol\n",
        "R = 8.31446261815324\n",
        "Cd = 0.25 # I am not sure what the Cd should be, it is related to the Reynold number\n",
        "# http://www.randomengineering.co.uk/Random_Aerospace/Balloons.html\n",
        "\n",
        "#Also define some secondary fucntions, including:\n",
        "#Volumn of the balloon, based on PV = nRT：V(h)\n",
        "#Cross sectional area of the balloon: A(h)\n",
        "#And, k(h), (the drag force = k * v^2)\n",
        "def V(h):\n",
        "  return m_He * R * Theta(h) / (M_He * AP(h))\n",
        "\n",
        "def A(h):\n",
        "  return (V(h)**2 * 9 / 16 * np.pi)**(1/3)\n",
        "\n",
        "# Radius given volume of sphere\n",
        "def r(volume):\n",
        "  return np.power(3 / 4 / np.pi * volume, 1/3)\n",
        "\n",
        "# let r = 5, V = 500/3 pi, A = 25pi\n",
        "\n",
        "# print((9*np.pi*(500/3 * np.pi)**2/16)**(1/3)) # 78.539 ...\n",
        "# print(((500/3 * np.pi)**2 * 9 * np.pi)**(1/3)) # 314.1592653589792\n",
        "\n",
        "def k(h):\n",
        "  return 1/2 * Cd * A(h) * AD(h)\n",
        "\n",
        "def g(h):\n",
        "  return 9.80655"
      ],
      "execution_count": null,
      "outputs": [
        {
          "output_type": "stream",
          "name": "stdout",
          "text": [
            "Collecting ambiance\n",
            "  Downloading ambiance-1.3.0-py3-none-any.whl (14 kB)\n",
            "Requirement already satisfied: numpy in /usr/local/lib/python3.7/dist-packages (from ambiance) (1.21.5)\n",
            "Requirement already satisfied: scipy in /usr/local/lib/python3.7/dist-packages (from ambiance) (1.4.1)\n",
            "Installing collected packages: ambiance\n",
            "Successfully installed ambiance-1.3.0\n"
          ]
        }
      ]
    },
    {
      "cell_type": "code",
      "metadata": {
        "colab": {
          "base_uri": "https://localhost:8080/",
          "height": 557
        },
        "id": "x-_rgH0DFIvW",
        "outputId": "3f3baef9-fb86-42b8-f009-bacd238565d3"
      },
      "source": [
        "# This paragraph is for testing functions defined to see if they are valid and continuous, you may not need to run it\n",
        "#by sketching them from h=0 to h=30000\n",
        "\n",
        "# create the heights array. with heights increasing by dh each step\n",
        "N = 1000 + 1\n",
        "heights = np.linspace(0, 30000, N)\n",
        "\n",
        "#calculate the values of these funcitons at these heights\n",
        "The_temperatures = [Theta(h) for h in heights]\n",
        "The_pressures = [AP(h) for h in heights]\n",
        "The_densities = [AD(h) for h in heights]\n",
        "The_Volumes = [V(h) for h in heights]\n",
        "The_Diameters = [2 * r(V(h)) for h in heights]\n",
        "The_ks = [k(h) for h in heights]\n",
        "\n",
        "# plot the results\n",
        "%matplotlib inline\n",
        "matplotlib.rcParams.update({'font.size': 12,'font.family':'serif'})\n",
        "\n",
        "plt.figure(figsize=(9.5,6),dpi=100)\n",
        "plt.grid()\n",
        "plt.xlim([0, heights.max()])\n",
        "plt.xlabel('Height (m)')\n",
        "plt.ylabel('Diameter of the balloon (m)')\n",
        "\n",
        "#plt.plot(heights,The_temperatures,'-',linewidth=2,color = [0, 0, 0.8])\n",
        "plt.plot(heights, The_Diameters,'-',linewidth=2, color = [1, 0, 0.8], label='Standard Model')\n",
        "Volume = m_He * R * Atmosphere(heights).temperature / (M_He * Atmosphere(heights).pressure)\n",
        "plt.plot(heights, 2 * r(Volume), color = [0, 1, 0], label='ICAO standard atmosphere 1993')\n",
        "plt.legend()"
      ],
      "execution_count": null,
      "outputs": [
        {
          "output_type": "execute_result",
          "data": {
            "text/plain": [
              "<matplotlib.legend.Legend at 0x7fe5d4a29f90>"
            ]
          },
          "metadata": {},
          "execution_count": 2
        },
        {
          "output_type": "display_data",
          "data": {
            "text/plain": [
              "<Figure size 950x600 with 1 Axes>"
            ],
            "image/png": "[encoded data removed]"
          },
          "metadata": {
            "needs_background": "light"
          }
        }
      ]
    },
    {
      "cell_type": "code",
      "metadata": {
        "id": "BFrSdrFpmzeT"
      },
      "source": [
        "y_0 = [0, 0] # height, velocity\n",
        "\n",
        "Balloon_pop_diameter = 5\n",
        "def balloon_pop(t, y): \n",
        "  h = y[0] \n",
        "  g, rho, T, P = atmos(h) \n",
        "  V = m_He * R * T / (M_He * P)\n",
        "  diameter = 2 * r(V)\n",
        "  return diameter - Balloon_pop_diameter\n",
        "\n",
        "balloon_pop.terminal = True\n",
        "# balloon_pop.direction = 1"
      ],
      "execution_count": null,
      "outputs": []
    },
    {
      "cell_type": "code",
      "metadata": {
        "id": "4tNAZiBDyp2L",
        "colab": {
          "base_uri": "https://localhost:8080/",
          "height": 235
        },
        "outputId": "0aedab17-d595-4476-a944-6f055d11910d"
      },
      "source": [
        "ref_height = np.linspace(y_0[0], Balloon_pop_height + 1000,  (Balloon_pop_height + 1000) // 10 + 1)\n",
        "atm = Atmosphere(ref_height)\n",
        "\n",
        "prop = (atm.grav_accel, atm.density, atm.temperature, atm.pressure)\n",
        "\n",
        "atmos = interp1d(ref_height, prop)\n",
        "\n",
        "def derivatives_atm(t, y):\n",
        "  h = y[0]\n",
        "  velocity = y[1] \n",
        "\n",
        "  g, rho, T, P = atmos(h) \n",
        "  # Use to not use interpolated values\n",
        "  # properties = Atmosphere(h) \n",
        "  # g = properties.grav_accel\n",
        "  # rho = properties.density\n",
        "  # T = properties.temperature\n",
        "  # P = properties.pressure\n",
        "\n",
        "  V = m_He * R * T / (M_He * P)\n",
        "  A = r(V)**2 * np.pi\n",
        "\n",
        "  upthrust = rho * g * V\n",
        "  drag = 1/2 * Cd * A * rho * velocity**2\n",
        "\n",
        "  acceleration = (upthrust - m_total * g - drag) / m_total\n",
        "  return [velocity, acceleration]\n",
        "\n",
        "sol_atm = solve_ivp(derivatives_atm, [0, 20000], y_0, events=balloon_pop)\n",
        "\n",
        "print(\"Ballon popped at {:.1f} seconds\".format(sol_atm.t_events[0][0]))\n",
        "\n",
        "# calculate the average ascent rate\n",
        "ascent_rate_atm = sol_atm.y[0, -1] / sol_atm.t[-1]\n",
        "print(\"Ballon ascended at {:.1f} m/s\".format(ascent_rate_atm))"
      ],
      "execution_count": null,
      "outputs": [
        {
          "output_type": "error",
          "ename": "NameError",
          "evalue": "ignored",
          "traceback": [
            "\u001b[0;31m---------------------------------------------------------------------------\u001b[0m",
            "\u001b[0;31mNameError\u001b[0m                                 Traceback (most recent call last)",
            "\u001b[0;32m<ipython-input-4-2c6d942ed572>\u001b[0m in \u001b[0;36m<module>\u001b[0;34m()\u001b[0m\n\u001b[0;32m----> 1\u001b[0;31m \u001b[0mref_height\u001b[0m \u001b[0;34m=\u001b[0m \u001b[0mnp\u001b[0m\u001b[0;34m.\u001b[0m\u001b[0mlinspace\u001b[0m\u001b[0;34m(\u001b[0m\u001b[0my_0\u001b[0m\u001b[0;34m[\u001b[0m\u001b[0;36m0\u001b[0m\u001b[0;34m]\u001b[0m\u001b[0;34m,\u001b[0m \u001b[0mBalloon_pop_height\u001b[0m \u001b[0;34m+\u001b[0m \u001b[0;36m1000\u001b[0m\u001b[0;34m,\u001b[0m  \u001b[0;34m(\u001b[0m\u001b[0mBalloon_pop_height\u001b[0m \u001b[0;34m+\u001b[0m \u001b[0;36m1000\u001b[0m\u001b[0;34m)\u001b[0m \u001b[0;34m//\u001b[0m \u001b[0;36m10\u001b[0m \u001b[0;34m+\u001b[0m \u001b[0;36m1\u001b[0m\u001b[0;34m)\u001b[0m\u001b[0;34m\u001b[0m\u001b[0;34m\u001b[0m\u001b[0m\n\u001b[0m\u001b[1;32m      2\u001b[0m \u001b[0matm\u001b[0m \u001b[0;34m=\u001b[0m \u001b[0mAtmosphere\u001b[0m\u001b[0;34m(\u001b[0m\u001b[0mref_height\u001b[0m\u001b[0;34m)\u001b[0m\u001b[0;34m\u001b[0m\u001b[0;34m\u001b[0m\u001b[0m\n\u001b[1;32m      3\u001b[0m \u001b[0;34m\u001b[0m\u001b[0m\n\u001b[1;32m      4\u001b[0m \u001b[0mprop\u001b[0m \u001b[0;34m=\u001b[0m \u001b[0;34m(\u001b[0m\u001b[0matm\u001b[0m\u001b[0;34m.\u001b[0m\u001b[0mgrav_accel\u001b[0m\u001b[0;34m,\u001b[0m \u001b[0matm\u001b[0m\u001b[0;34m.\u001b[0m\u001b[0mdensity\u001b[0m\u001b[0;34m,\u001b[0m \u001b[0matm\u001b[0m\u001b[0;34m.\u001b[0m\u001b[0mtemperature\u001b[0m\u001b[0;34m,\u001b[0m \u001b[0matm\u001b[0m\u001b[0;34m.\u001b[0m\u001b[0mpressure\u001b[0m\u001b[0;34m)\u001b[0m\u001b[0;34m\u001b[0m\u001b[0;34m\u001b[0m\u001b[0m\n\u001b[1;32m      5\u001b[0m \u001b[0;34m\u001b[0m\u001b[0m\n",
            "\u001b[0;31mNameError\u001b[0m: name 'Balloon_pop_height' is not defined"
          ]
        }
      ]
    },
    {
      "cell_type": "code",
      "metadata": {
        "id": "NuY9jVuToDeQ"
      },
      "source": [
        "def derivatives(t, y):\n",
        "  h = y[0]\n",
        "  velocity = y[1] \n",
        "  acceleration = (AD(h) * g(h) * V(h) - m_total * g(h) - k(h) * (velocity)**2) / m_total\n",
        "  return [velocity, acceleration]\n",
        "\n",
        "sol = solve_ivp(derivatives, [0, 20000], y_0, events=balloon_pop)\n",
        "\n",
        "print(\"Ballon popped at {:.1f} seconds\".format(sol.t_events[0][0]))\n",
        "\n",
        "# calculate the average ascent rate\n",
        "ascent_rate = sol.y[0, -1] / sol.t[-1]\n",
        "print(\"Ballon ascended at {:.1f} m/s\".format(ascent_rate))"
      ],
      "execution_count": null,
      "outputs": []
    },
    {
      "cell_type": "code",
      "metadata": {
        "id": "irDZG-hBeptx"
      },
      "source": [
        "# and print the results\n",
        "\n",
        "%matplotlib inline\n",
        "matplotlib.rcParams.update({'font.size': 12,'font.family':'serif'})\n",
        "\n",
        "plt.figure(figsize=(9.5,6),dpi=100)\n",
        "plt.grid()\n",
        "plt.xlabel('Time (s)')\n",
        "plt.ylabel('Height (m)')\n",
        "\n",
        "plt.plot(sol.t, sol.y[0],'-',linewidth=2,color = [0, 0, 0.8], label='Standard Model')\n",
        "plt.plot(sol_atm.t, sol_atm.y[0],'-',linewidth=2, color = [0, 1, 0], label='ICAO standard atmosphere 1993')\n",
        "plt.legend()"
      ],
      "execution_count": null,
      "outputs": []
    },
    {
      "cell_type": "code",
      "metadata": {
        "id": "bCtaKAbJ_0eI"
      },
      "source": [
        "plt.plot(sol.t, sol.y[1],'-',linewidth=2,color = [0, 0, 0.8])\n",
        "plt.plot(sol.t, ascent_rate * np.ones(np.size(sol.t)))"
      ],
      "execution_count": null,
      "outputs": []
    },
    {
      "cell_type": "code",
      "metadata": {
        "id": "EDlI-FltnFnx"
      },
      "source": [
        "plt.plot(sol.t[10:], sol.y[1, 10:],'-',linewidth=2,color = [0, 0, 0.8])\n",
        "plt.plot(sol.t, ascent_rate * np.ones(np.size(sol.t)))"
      ],
      "execution_count": null,
      "outputs": []
    }
  ]
}